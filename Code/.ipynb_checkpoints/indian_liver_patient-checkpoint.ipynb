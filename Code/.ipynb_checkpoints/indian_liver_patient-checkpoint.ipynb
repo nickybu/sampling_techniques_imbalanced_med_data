{
 "cells": [
  {
   "cell_type": "code",
   "execution_count": null,
   "metadata": {
    "scrolled": true
   },
   "outputs": [],
   "source": [
    "import pandas as pd\n",
    "import numpy as np\n",
    "from sklearn import preprocessing\n",
    "import custom_implementations as custom_imp\n",
    "import importlib\n",
    "\n",
    "dataset = pd.read_csv('../Datasets/indian_liver_patient_disease.csv',\n",
    "                     index_col = False)\n",
    "\n",
    "cols = list(dataset)\n",
    "\n",
    "# Change classification values to 0,1\n",
    "dataset['selector_field'] = dataset['selector_field'].apply({1:0, 2:1}.get)\n",
    "dataset['gender'] = dataset['gender'].apply({'Male':0, 'Female':1}.get)\n",
    "\n",
    "# Remove NaN\n",
    "dataset = dataset[np.isfinite(dataset['ag_ratio_alb'])]\n",
    "\n",
    "# Non liver patient: 1\n",
    "# Liver patient: 0\n",
    "minority_class = 1\n",
    "majority_class = 0\n",
    "\n",
    "# Imbalance dataset\n",
    "# remove_n = 100\n",
    "# minority_indices = dataset[dataset['selector_field'] == 1]\n",
    "# drop_indices = np.random.choice(minority_indices.index, remove_n, replace=False)\n",
    "# dataset = dataset.drop(drop_indices)\n",
    "\n",
    "# Set normalise\n",
    "normalise = True\n",
    "\n",
    "# Get classification count\n",
    "liver_patient_count = len(dataset[dataset['selector_field'] == 0])\n",
    "non_liver_patient_count = len(dataset[dataset['selector_field'] == 1])\n",
    "\n",
    "#print dataset\n",
    "print \"No. Features: \", len(dataset.columns)\n",
    "print \"Liver patient (0): \",liver_patient_count\n",
    "print \"Non liver patient (1): \",non_liver_patient_count\n",
    "print \"Total: \", liver_patient_count + non_liver_patient_count\n",
    "\n",
    "print dataset"
   ]
  },
  {
   "cell_type": "markdown",
   "metadata": {},
   "source": [
    "## Plot features"
   ]
  },
  {
   "cell_type": "code",
   "execution_count": null,
   "metadata": {},
   "outputs": [],
   "source": [
    "import matplotlib.pyplot as plt\n",
    "\n",
    "class_index = len(dataset.columns)\n",
    "\n",
    "# Separate into features and labels depending upon classification label\n",
    "x_liver = dataset[dataset['selector_field'] == 0].iloc[:,0:class_index-1]\n",
    "x_non_liver = dataset[dataset['selector_field'] == 1].iloc[:,0:class_index-1]\n",
    "y_liver = dataset[dataset['selector_field'] == 0].iloc[:,-1]\n",
    "y_non_liver = dataset[dataset['selector_field'] == 1].iloc[:,-1]\n",
    "\n",
    "if(normalise):\n",
    "    x_liver = preprocessing.normalize(x_liver)\n",
    "    x_non_liver = preprocessing.normalize(x_non_liver)\n",
    "    plt.plot([x_liver[3]], [x_liver[0]], 'g^', [x_non_liver[3]], [x_non_liver[0]], 'r*')\n",
    "else:\n",
    "    plt.plot([x_liver['direct_biliruin'].values], [x_liver['age'].values], 'g^', [x_non_liver['direct_biliruin'].values], [x_non_liver['age'].values], 'r*')\n",
    "\n",
    "    \n",
    "plt.ylabel('age')\n",
    "plt.xlabel('direct_bil')\n",
    "plt.title('direct_biliruin vs age')\n",
    "plt.show()\n"
   ]
  },
  {
   "cell_type": "markdown",
   "metadata": {},
   "source": [
    "## Split data into train/test"
   ]
  },
  {
   "cell_type": "code",
   "execution_count": null,
   "metadata": {},
   "outputs": [],
   "source": [
    "from sklearn.model_selection import train_test_split\n",
    "# Split into data and labels\n",
    "x = dataset.iloc[:, :-1].values\n",
    "y = dataset.iloc[:, len(dataset.columns)-1].values\n",
    "\n",
    "if(normalise):\n",
    "    x = preprocessing.normalize(x)\n",
    "\n",
    "x_train, x_test, y_train, y_test = train_test_split(x,y,random_state=1, test_size=0.25, shuffle=True)"
   ]
  },
  {
   "cell_type": "markdown",
   "metadata": {},
   "source": [
    "## Find K for KNN"
   ]
  },
  {
   "cell_type": "code",
   "execution_count": null,
   "metadata": {},
   "outputs": [],
   "source": [
    "from sklearn.model_selection import train_test_split\n",
    "from sklearn.neighbors import KNeighborsClassifier\n",
    "from sklearn import metrics\n",
    "from sklearn.model_selection import cross_val_score\n",
    "\n",
    "# Split into data and labels\n",
    "x = dataset.iloc[:, :-1].values\n",
    "y = dataset.iloc[:, len(dataset.columns)-1].values\n",
    "\n",
    "if(normalise):\n",
    "    x = preprocessing.normalize(x)\n",
    "\n",
    "x_train, x_test, y_train, y_test = train_test_split(x,y,random_state=1, test_size=0.25, shuffle=True)\n",
    "\n",
    "k_best = custom_imp.knn_set_hyper_params(x_train, y_train, x_test, y_test, x, y)\n",
    "print \"Best K: \", k_best"
   ]
  },
  {
   "cell_type": "markdown",
   "metadata": {
    "collapsed": true
   },
   "source": [
    "## KNN on imbalanced dataset"
   ]
  },
  {
   "cell_type": "code",
   "execution_count": null,
   "metadata": {},
   "outputs": [],
   "source": [
    "# Create KNN and fit model\n",
    "model = KNeighborsClassifier(n_neighbors=k_best, metric='minkowski', p=2)\n",
    "model.fit(x_train, y_train)\n",
    "\n",
    "# Predict on testing data\n",
    "y_pred = model.predict(x_test)\n",
    "\n",
    "# 10-cross fold validation\n",
    "scores = cross_val_score(model, x, y, cv=10)\n",
    "print(\"10-Fold Cross Validation: %0.2f (+/- %0.2f)\" % (scores.mean(), scores.std() * 2))\n",
    "\n",
    "class_labels = ['Liver', 'Non-Liver']\n",
    "pos_label = 1\n",
    "\n",
    "custom_imp.show_metrics(y_test, y_pred, class_labels, pos_label)"
   ]
  },
  {
   "cell_type": "markdown",
   "metadata": {},
   "source": [
    "## Set SVM Parameters"
   ]
  },
  {
   "cell_type": "code",
   "execution_count": null,
   "metadata": {},
   "outputs": [],
   "source": [
    "svm_best_params = custom_imp.svm_set_hyper_params(x_train, y_train, x_test, y_test, True)\n",
    "print svm_best_params"
   ]
  },
  {
   "cell_type": "markdown",
   "metadata": {},
   "source": [
    "## SVM on imbalanced dataset"
   ]
  },
  {
   "cell_type": "code",
   "execution_count": null,
   "metadata": {},
   "outputs": [],
   "source": [
    "from sklearn import svm\n",
    "\n",
    "# Fit model\n",
    "# C: penalty parameter of the error term, i.e. slack variable\n",
    "# kernel (linear, rbf)\n",
    "# gamma: kernel coefficient for rbf, poly, sigmoid\n",
    "# tol: tolerance for stopping criterion\n",
    "# max_iter: limit on eopochs\n",
    "# random_state: seed when shuffling\n",
    "\n",
    "kernel = svm_best_params['kernel']\n",
    "if(kernel == 'linear'):\n",
    "    model = svm.SVC(C=svm_best_params['C'], max_iter=-1, kernel='linear')\n",
    "else:\n",
    "    model = svm.SVC(gamma=svm_best_params['gamma'], C=svm_best_params['C'], max_iter=-1, kernel='rbf')\n",
    "model.fit(x_train, y_train)\n",
    "\n",
    "# Show SVM params\n",
    "print model.get_params\n",
    "\n",
    "# Predict on testing data\n",
    "y_pred = model.predict(x_test)\n",
    "print (\"Accuracy: %f\" %(metrics.accuracy_score(y_test, y_pred)))\n",
    "\n",
    "# k cross fold validation\n",
    "scores = cross_val_score(model, x, y, cv=10)\n",
    "print(\"10-Fold Cross Validation: %0.2f (+/- %0.2f)\" % (scores.mean(), scores.std() * 2))\n",
    "\n",
    "# Get support vectors\n",
    "print 'Support vectors: \\n', model.support_vectors_\n",
    "\n",
    "custom_imp.show_metrics(y_test, y_pred, class_labels, pos_label)"
   ]
  },
  {
   "cell_type": "markdown",
   "metadata": {},
   "source": [
    "## Apply SMOTE"
   ]
  },
  {
   "cell_type": "code",
   "execution_count": null,
   "metadata": {},
   "outputs": [],
   "source": [
    "## Use SMOTE on N% of the dataset with k neighbours\n",
    "smote_percentages = [50,100,200,300]\n",
    "\n",
    "print 'Percentage to SMOTE: ', smote_percentages[3]\n",
    "smoted_samples = custom_imp.smote(x_non_liver, smote_percentages[3], k_best)\n",
    "print 'Number of synthetic samples SMOTEd: ', len(smoted_samples)\n",
    "updated_x_non_liver = np.concatenate((x_non_liver, smoted_samples), axis=0)\n",
    "print 'Number of minority after: %s' % len(updated_x_non_liver)\n",
    "\n",
    "if(normalise):\n",
    "    plt.plot([x_liver[0]], [x_liver[3]], 'g^', [updated_x_non_liver[0]], [updated_x_non_liver[3]], 'r*')\n",
    "else:\n",
    "    plt.plot([x_liver['age'].values], [x_liver['direct_biliruin'].values], 'g^', [updated_x_non_liver['age'].values], [updated_x_non_liver['direct_biliruin'].values], 'r*')\n",
    "\n",
    "# Update x and y for smote\n",
    "x_smote = np.concatenate((x, smoted_samples), axis=0)\n",
    "smote_y = np.full((len(smoted_samples)), minority_class)\n",
    "y_smote = np.concatenate((y, smote_y), axis=0)"
   ]
  },
  {
   "cell_type": "markdown",
   "metadata": {},
   "source": [
    "## KNN after SMOTE"
   ]
  },
  {
   "cell_type": "code",
   "execution_count": null,
   "metadata": {},
   "outputs": [],
   "source": [
    "x_train, x_test, y_train, y_test = train_test_split(x_smote,y_smote,random_state=1, test_size=0.25, shuffle=True)\n",
    "\n",
    "k_best = custom_imp.knn_set_hyper_params(x_train, y_train, x_test, y_test, x, y)\n",
    "print 'Best K: ', k_best\n",
    "\n",
    "# Create KNN and fit model\n",
    "model = KNeighborsClassifier(n_neighbors=k_best, metric='minkowski', p=2)\n",
    "model.fit(x_train, y_train)\n",
    "\n",
    "# Predict on testing data\n",
    "y_pred = model.predict(x_test)\n",
    "\n",
    "# 10-cross fold validation\n",
    "scores = cross_val_score(model, x, y, cv=10)\n",
    "print(\"\\n10-Fold Cross Validation: %0.2f (+/- %0.2f)\" % (scores.mean(), scores.std() * 2))\n",
    "\n",
    "class_labels = ['Benign', 'Malignant']\n",
    "pos_label = 1\n",
    "\n",
    "custom_imp.show_metrics(y_test, y_pred, class_labels, pos_label)"
   ]
  },
  {
   "cell_type": "markdown",
   "metadata": {},
   "source": [
    "## Set SVM Hyperparameters"
   ]
  },
  {
   "cell_type": "code",
   "execution_count": null,
   "metadata": {},
   "outputs": [],
   "source": [
    "svm_best_params = custom_imp.svm_set_hyper_params(x_train, y_train, x_test, y_test, True)\n",
    "print svm_best_params"
   ]
  },
  {
   "cell_type": "markdown",
   "metadata": {},
   "source": [
    "## SVM after SMOTE"
   ]
  },
  {
   "cell_type": "code",
   "execution_count": null,
   "metadata": {},
   "outputs": [],
   "source": [
    "kernel = svm_best_params['kernel']\n",
    "if(kernel == 'linear'):\n",
    "    model = svm.SVC(C=svm_best_params['C'], max_iter=-1, kernel='linear')\n",
    "else:\n",
    "    model = svm.SVC(gamma=svm_best_params['gamma'], C=svm_best_params['C'], max_iter=-1, kernel='rbf')\n",
    "model.fit(x_train, y_train)\n",
    "\n",
    "# Show SVM params\n",
    "print model.get_params\n",
    "\n",
    "# Predict on testing data\n",
    "y_pred = model.predict(x_test)\n",
    "print (\"Accuracy: %f\" %(metrics.accuracy_score(y_test, y_pred)))\n",
    "\n",
    "# k cross fold validation\n",
    "scores = cross_val_score(model, x, y, cv=10)\n",
    "print(\"10-Fold Cross Validation: %0.2f (+/- %0.2f)\" % (scores.mean(), scores.std() * 2))\n",
    "\n",
    "# Get support vectors\n",
    "print 'Support vectors: \\n', model.support_vectors_\n",
    "\n",
    "print y_pred\n",
    "custom_imp.show_metrics(y_test, y_pred, class_labels, pos_label)"
   ]
  },
  {
   "cell_type": "markdown",
   "metadata": {},
   "source": [
    "## Apply Tomek Links"
   ]
  },
  {
   "cell_type": "code",
   "execution_count": null,
   "metadata": {},
   "outputs": [],
   "source": [
    "# Declare column variables\n",
    "classes = 'selector_field'\n",
    "class_x = 0\n",
    "class_y = 3\n",
    "label_0 = 'Liver' # Change depending on which class 0 belongs to\n",
    "label_1 = 'Non-liver' # Change depending on which class 1 belongs to\n",
    "\n",
    "num_to_remove = len(x_liver) - len(x_non_liver)\n",
    "if(num_to_remove > len(x_non_liver)):\n",
    "    num_to_remove = len(x_non_liver)\n",
    "    \n",
    "tomek_dataset = custom_imp.tomek(x_liver, x_non_liver, y_liver.values, y_non_liver.values, num_to_remove, classes, 1)\n",
    "tomek_df = pd.DataFrame(tomek_dataset)\n",
    "\n",
    "# Split into data and labels\n",
    "x_tomek = tomek_df.iloc[:, :-1].values\n",
    "y_tomek = tomek_df.iloc[:, len(dataset.columns)-1].values\n",
    "\n",
    "print sum(tomek_df[10] == 1)\n",
    "print sum(tomek_df[10] == 0)\n",
    "\n",
    "x_train, x_test, y_train, y_test = train_test_split(x_tomek,y_tomek,random_state=1, test_size=0.25, shuffle=True)"
   ]
  },
  {
   "cell_type": "markdown",
   "metadata": {},
   "source": [
    "## KNN after Tomek"
   ]
  },
  {
   "cell_type": "code",
   "execution_count": null,
   "metadata": {},
   "outputs": [],
   "source": [
    "k_best = custom_imp.knn_set_hyper_params(x_train, y_train, x_test, y_test, x, y)\n",
    "print 'Best K: ', k_best\n",
    "\n",
    "# Create KNN and fit model\n",
    "model = KNeighborsClassifier(n_neighbors=k_best, metric='minkowski', p=2)\n",
    "model.fit(x_train, y_train)\n",
    "\n",
    "# Predict on testing data\n",
    "y_pred = model.predict(x_test)\n",
    "\n",
    "# 10-cross fold validation\n",
    "scores = cross_val_score(model, x, y, cv=10)\n",
    "print(\"\\n10-Fold Cross Validation: %0.2f (+/- %0.2f)\" % (scores.mean(), scores.std() * 2))\n",
    "\n",
    "class_labels = ['Benign', 'Malignant']\n",
    "pos_label = 1\n",
    "\n",
    "custom_imp.show_metrics(y_test, y_pred, class_labels, pos_label)"
   ]
  },
  {
   "cell_type": "markdown",
   "metadata": {},
   "source": [
    "## SVM after Tomek"
   ]
  },
  {
   "cell_type": "code",
   "execution_count": null,
   "metadata": {},
   "outputs": [],
   "source": [
    "svm_best_params = custom_imp.svm_set_hyper_params(x_train, y_train, x_test, y_test, True)\n",
    "print svm_best_params"
   ]
  },
  {
   "cell_type": "code",
   "execution_count": null,
   "metadata": {},
   "outputs": [],
   "source": [
    "kernel = svm_best_params['kernel']\n",
    "if(kernel == 'linear'):\n",
    "    model = svm.SVC(C=svm_best_params['C'], max_iter=-1, kernel='linear')\n",
    "else:\n",
    "    model = svm.SVC(gamma=svm_best_params['gamma'], C=svm_best_params['C'], max_iter=-1, kernel='rbf')\n",
    "model.fit(x_train, y_train)\n",
    "\n",
    "# Show SVM params\n",
    "print model.get_params\n",
    "\n",
    "# Predict on testing data\n",
    "y_pred = model.predict(x_test)\n",
    "print (\"Accuracy: %f\" %(metrics.accuracy_score(y_test, y_pred)))\n",
    "\n",
    "# k cross fold validation\n",
    "scores = cross_val_score(model, x, y, cv=10)\n",
    "print(\"10-Fold Cross Validation: %0.2f (+/- %0.2f)\" % (scores.mean(), scores.std() * 2))\n",
    "\n",
    "# Get support vectors\n",
    "print 'Support vectors: \\n', model.support_vectors_\n",
    "\n",
    "print y_pred\n",
    "custom_imp.show_metrics(y_test, y_pred, class_labels, pos_label)"
   ]
  },
  {
   "cell_type": "markdown",
   "metadata": {},
   "source": [
    "## Apply SMOTE + Tomek"
   ]
  },
  {
   "cell_type": "code",
   "execution_count": null,
   "metadata": {},
   "outputs": [],
   "source": [
    "# Declare column variables\n",
    "classes = 'selector_field'\n",
    "class_x = 0\n",
    "class_y = 3\n",
    "label_0 = 'Liver' # Change depending on which class 0 belongs to\n",
    "label_1 = 'Non-liver' # Change depending on which class 1 belongs to\n",
    "\n",
    "smote_tomek_dataset = custom_imp.smote_tomek(x_liver, x_non_liver, y_liver.values, y_non_liver.values, majority_class, minority_class, smote_percentages[3], k_best, classes)\n",
    "smote_tomek_df = pd.DataFrame(tomek_dataset)\n",
    "\n",
    "# Split into data and labels\n",
    "x_smote_tomek = smote_tomek_df.iloc[:, :-1].values\n",
    "y_smote_tomek = smote_tomek_df.iloc[:, len(dataset.columns)-1].values\n",
    "\n",
    "print sum(tomek_df[10] == 1)\n",
    "print sum(tomek_df[10] == 0)\n",
    "\n",
    "x_train, x_test, y_train, y_test = train_test_split(x_smote_tomek,y_smote_tomek,random_state=1, test_size=0.25, shuffle=True)"
   ]
  },
  {
   "cell_type": "markdown",
   "metadata": {},
   "source": [
    "## KNN after SMOTE + Tomek"
   ]
  },
  {
   "cell_type": "code",
   "execution_count": null,
   "metadata": {},
   "outputs": [],
   "source": [
    "k_best = custom_imp.knn_set_hyper_params(x_train, y_train, x_test, y_test, x, y)\n",
    "print 'Best K: ', k_best\n",
    "\n",
    "# Create KNN and fit model\n",
    "model = KNeighborsClassifier(n_neighbors=k_best, metric='minkowski', p=2)\n",
    "model.fit(x_train, y_train)\n",
    "\n",
    "# Predict on testing data\n",
    "y_pred = model.predict(x_test)\n",
    "\n",
    "# 10-cross fold validation\n",
    "scores = cross_val_score(model, x, y, cv=10)\n",
    "print(\"\\n10-Fold Cross Validation: %0.2f (+/- %0.2f)\" % (scores.mean(), scores.std() * 2))\n",
    "\n",
    "class_labels = ['Liver', 'Non-Liver']\n",
    "pos_label = 1\n",
    "\n",
    "custom_imp.show_metrics(y_test, y_pred, class_labels, pos_label)"
   ]
  },
  {
   "cell_type": "markdown",
   "metadata": {},
   "source": [
    "## SVM after SMOTE + Tomek"
   ]
  },
  {
   "cell_type": "code",
   "execution_count": null,
   "metadata": {},
   "outputs": [],
   "source": [
    "svm_best_params = custom_imp.svm_set_hyper_params(x_train, y_train, x_test, y_test, True)\n",
    "print svm_best_params"
   ]
  },
  {
   "cell_type": "code",
   "execution_count": null,
   "metadata": {},
   "outputs": [],
   "source": [
    "kernel = svm_best_params['kernel']\n",
    "if(kernel == 'linear'):\n",
    "    model = svm.SVC(C=svm_best_params['C'], max_iter=-1, kernel='linear')\n",
    "else:\n",
    "    model = svm.SVC(gamma=svm_best_params['gamma'], C=svm_best_params['C'], max_iter=-1, kernel='rbf')\n",
    "model.fit(x_train, y_train)\n",
    "\n",
    "# Show SVM params\n",
    "print model.get_params\n",
    "\n",
    "# Predict on testing data\n",
    "y_pred = model.predict(x_test)\n",
    "print (\"Accuracy: %f\" %(metrics.accuracy_score(y_test, y_pred)))\n",
    "\n",
    "# k cross fold validation\n",
    "scores = cross_val_score(model, x, y, cv=10)\n",
    "print(\"10-Fold Cross Validation: %0.2f (+/- %0.2f)\" % (scores.mean(), scores.std() * 2))\n",
    "\n",
    "# Get support vectors\n",
    "print 'Support vectors: \\n', model.support_vectors_\n",
    "\n",
    "print y_pred\n",
    "custom_imp.show_metrics(y_test, y_pred, class_labels, pos_label)"
   ]
  },
  {
   "cell_type": "markdown",
   "metadata": {},
   "source": []
  }
 ],
 "metadata": {
  "kernelspec": {
   "display_name": "Python 2",
   "language": "python",
   "name": "python2"
  },
  "language_info": {
   "codemirror_mode": {
    "name": "ipython",
    "version": 2
   },
   "file_extension": ".py",
   "mimetype": "text/x-python",
   "name": "python",
   "nbconvert_exporter": "python",
   "pygments_lexer": "ipython2",
   "version": "2.7.15"
  }
 },
 "nbformat": 4,
 "nbformat_minor": 2
}
