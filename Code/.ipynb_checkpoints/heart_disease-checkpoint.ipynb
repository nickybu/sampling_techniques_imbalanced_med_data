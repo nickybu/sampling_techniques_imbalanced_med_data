{
 "cells": [
  {
   "cell_type": "code",
   "execution_count": null,
   "metadata": {},
   "outputs": [],
   "source": [
    "import pandas as pd\n",
    "import numpy as np\n",
    "import importlib\n",
    "import custom_implementations as custom_imp\n",
    "import matplotlib.pyplot as plt\n",
    "\n",
    "dataset = pd.read_csv(\"../Datasets/heart.txt\", sep='\\s+')\n",
    "cols_of_interest = ['age','chest_pain','resting_blood_pressure','serum_chol','resting_electro_results','maximum_heart_rate,exercise','induced_angina','oldpeak','slope_peak_exercise_st','num_major_vessels','absent']\n",
    "dataset = dataset[cols_of_interest]\n",
    "# Not Absent: 0\n",
    "# Absent: 1\n",
    "minority_class = 1\n",
    "majority_class = 0\n",
    "classes = 'absent'\n",
    "cols = list(dataset.columns.values)\n",
    "class_index = cols.index(classes)\n",
    "\n",
    "print 'Number of not absent: ', len(dataset[dataset['absent'] == 0])\n",
    "print 'Number of absent: ', len(dataset[dataset['absent'] == 1])\n",
    "\n",
    "print(cols)"
   ]
  },
  {
   "cell_type": "markdown",
   "metadata": {
    "collapsed": true
   },
   "source": [
    "## Find best K for KNN"
   ]
  },
  {
   "cell_type": "code",
   "execution_count": null,
   "metadata": {},
   "outputs": [],
   "source": [
    "from sklearn import preprocessing\n",
    "from sklearn.model_selection import train_test_split\n",
    "\n",
    "# Split into data and labels\n",
    "x = preprocessing.normalize(dataset.iloc[:,:-1])\n",
    "y = dataset.iloc[:,-1].values\n",
    "\n",
    "x_train, x_test, y_train, y_test = train_test_split(x,y,random_state=1, test_size=0.25)\n",
    "\n",
    "k_best = custom_imp.knn_set_hyper_params(x_train, y_train, x_test, y_test, x, y)\n",
    "print 'Best K: ', k_best"
   ]
  },
  {
   "cell_type": "markdown",
   "metadata": {},
   "source": [
    "## KNN on imbalanced dataset"
   ]
  },
  {
   "cell_type": "code",
   "execution_count": null,
   "metadata": {},
   "outputs": [],
   "source": [
    "from sklearn.neighbors import KNeighborsClassifier\n",
    "from sklearn.model_selection import cross_val_score\n",
    "\n",
    "# Create KNN and fit model\n",
    "model = KNeighborsClassifier(n_neighbors=k_best, metric='minkowski', p=2)\n",
    "model.fit(x_train, y_train)\n",
    "\n",
    "# Predict on testing data\n",
    "y_pred = model.predict(x_test)\n",
    "\n",
    "# 10-cross fold validation\n",
    "scores = cross_val_score(model, x, y, cv=10)\n",
    "print(\"10-Fold Cross Validation: %0.2f (+/- %0.2f)\" % (scores.mean(), scores.std() * 2))\n",
    "\n",
    "class_labels = ['Not Absent', 'Absent']\n",
    "pos_label = 1\n",
    "\n",
    "custom_imp.show_metrics(y_test, y_pred, class_labels, pos_label)"
   ]
  },
  {
   "cell_type": "markdown",
   "metadata": {},
   "source": [
    "## Set SVM parameters"
   ]
  },
  {
   "cell_type": "code",
   "execution_count": null,
   "metadata": {},
   "outputs": [],
   "source": [
    "svm_best_params = custom_imp.svm_set_hyper_params(x_train, y_train, x_test, y_test, True)\n",
    "print 'Best SVM hyperparameters: ', svm_best_params"
   ]
  },
  {
   "cell_type": "markdown",
   "metadata": {},
   "source": [
    "## SVM on imbalanced dataset"
   ]
  },
  {
   "cell_type": "code",
   "execution_count": null,
   "metadata": {},
   "outputs": [],
   "source": [
    "from sklearn import svm\n",
    "from sklearn import metrics\n",
    "\n",
    "# Fit model\n",
    "# C: penalty parameter of the error term, i.e. slack variable\n",
    "# kernel (linear, rbf)\n",
    "# gamma: kernel coefficient for rbf, poly, sigmoid\n",
    "# tol: tolerance for stopping criterion\n",
    "# max_iter: limit on eopochs\n",
    "# random_state: seed when shuffling\n",
    "\n",
    "kernel = svm_best_params['kernel']\n",
    "if(kernel == 'linear'):\n",
    "    model = svm.SVC(C=svm_best_params['C'], max_iter=-1, kernel='linear')\n",
    "else:\n",
    "    model = svm.SVC(gamma=svm_best_params['gamma'], C=svm_best_params['C'], max_iter=-1, kernel='rbf')\n",
    "model.fit(x_train, y_train)\n",
    "\n",
    "# Show SVM params\n",
    "print model.get_params\n",
    "\n",
    "# Predict on testing data\n",
    "y_pred = model.predict(x_test)\n",
    "print (\"Accuracy: %f\" %(metrics.accuracy_score(y_test, y_pred)))\n",
    "\n",
    "# k cross fold validation\n",
    "scores = cross_val_score(model, x, y, cv=10)\n",
    "print(\"10-Fold Cross Validation: %0.2f (+/- %0.2f)\" % (scores.mean(), scores.std() * 2))\n",
    "\n",
    "# Get support vectors\n",
    "print 'Support vectors: \\n', model.support_vectors_\n",
    "\n",
    "print y_pred\n",
    "custom_imp.show_metrics(y_test, y_pred, class_labels, pos_label)"
   ]
  },
  {
   "cell_type": "markdown",
   "metadata": {},
   "source": [
    "## Apply SMOTE to imbalanced dataset"
   ]
  },
  {
   "cell_type": "code",
   "execution_count": null,
   "metadata": {},
   "outputs": [],
   "source": [
    "## Use SMOTE on N% of the dataset with k neighbours\n",
    "smote_percentages = [50,100,200,300]\n",
    "\n",
    "x = dataset.iloc[:,:-1].values\n",
    "x = preprocessing.normalize(x)\n",
    "y = dataset.iloc[:,-1].values\n",
    "x_majority = preprocessing.normalize(dataset[dataset[classes] == 1].iloc[:,:-1].values)\n",
    "x_minority = preprocessing.normalize(dataset[dataset[classes] == 0].iloc[:,:-1].values)\n",
    "y_majority = dataset[dataset[classes] == 1].iloc[:,-1].values\n",
    "y_minority = dataset[dataset[classes] == 0].iloc[:,-1].values\n",
    "\n",
    "print 'Percentage to SMOTE: ', smote_percentages[3]\n",
    "smoted_samples = custom_imp.smote(x_minority, smote_percentages[3], k_best)\n",
    "print 'Number of synthetic samples SMOTEd: ', len(smoted_samples)\n",
    "updated_x_minority = np.concatenate((x_minority, smoted_samples), axis=0)\n",
    "print 'Number of minority after: %s' % len(updated_x_minority)\n",
    "\n",
    "plt.plot([x_majority[3]], [x_majority[4]], 'g^', [updated_x_minority[3]], [updated_x_minority[4]], 'r*')\n",
    "\n",
    "# Update x and y for smote\n",
    "x_smote = np.concatenate((x, smoted_samples), axis=0)\n",
    "smote_y = np.full((len(smoted_samples)), minority_class)\n",
    "y_smote = np.concatenate((y, smote_y), axis=0)"
   ]
  },
  {
   "cell_type": "markdown",
   "metadata": {},
   "source": [
    "## KNN after SMOTE"
   ]
  },
  {
   "cell_type": "code",
   "execution_count": null,
   "metadata": {},
   "outputs": [],
   "source": [
    "x_train, x_test, y_train, y_test = train_test_split(x_smote,y_smote,random_state=1, test_size=0.25, shuffle=True)\n",
    "\n",
    "k_best = custom_imp.knn_set_hyper_params(x_train, y_train, x_test, y_test, x, y)\n",
    "print 'Best K: ', k_best\n",
    "\n",
    "# Create KNN and fit model\n",
    "model = KNeighborsClassifier(n_neighbors=k_best, metric='minkowski', p=2)\n",
    "model.fit(x_train, y_train)\n",
    "\n",
    "# Predict on testing data\n",
    "y_pred = model.predict(x_test)\n",
    "\n",
    "# 10-cross fold validation\n",
    "scores = cross_val_score(model, x, y, cv=10)\n",
    "print(\"\\n10-Fold Cross Validation: %0.2f (+/- %0.2f)\" % (scores.mean(), scores.std() * 2))\n",
    "\n",
    "class_labels = ['Not Absent', 'Absent']\n",
    "pos_label = 1\n",
    "\n",
    "custom_imp.show_metrics(y_test, y_pred, class_labels, pos_label)"
   ]
  },
  {
   "cell_type": "markdown",
   "metadata": {},
   "source": [
    "## Set SVM parameters"
   ]
  },
  {
   "cell_type": "code",
   "execution_count": null,
   "metadata": {},
   "outputs": [],
   "source": [
    "svm_best_params = custom_imp.svm_set_hyper_params(x_train, y_train, x_test, y_test, True)\n",
    "print svm_best_params"
   ]
  },
  {
   "cell_type": "markdown",
   "metadata": {},
   "source": [
    "## SVM after SMOTE"
   ]
  },
  {
   "cell_type": "code",
   "execution_count": null,
   "metadata": {},
   "outputs": [],
   "source": [
    "kernel = svm_best_params['kernel']\n",
    "if(kernel == 'linear'):\n",
    "    model = svm.SVC(C=svm_best_params['C'], max_iter=-1, kernel='linear')\n",
    "else:\n",
    "    model = svm.SVC(gamma=svm_best_params['gamma'], C=svm_best_params['C'], max_iter=-1, kernel='rbf')\n",
    "model.fit(x_train, y_train)\n",
    "\n",
    "# Show SVM params\n",
    "print model.get_params\n",
    "\n",
    "# Predict on testing data\n",
    "y_pred = model.predict(x_test)\n",
    "print (\"Accuracy: %f\" %(metrics.accuracy_score(y_test, y_pred)))\n",
    "\n",
    "# k cross fold validation\n",
    "scores = cross_val_score(model, x, y, cv=10)\n",
    "print(\"10-Fold Cross Validation: %0.2f (+/- %0.2f)\" % (scores.mean(), scores.std() * 2))\n",
    "\n",
    "# Get support vectors\n",
    "print 'Support vectors: \\n', model.support_vectors_\n",
    "\n",
    "print y_pred\n",
    "custom_imp.show_metrics(y_test, y_pred, class_labels, pos_label)"
   ]
  },
  {
   "cell_type": "markdown",
   "metadata": {},
   "source": [
    "## TOMEK Links on imbalanced dataset"
   ]
  },
  {
   "cell_type": "code",
   "execution_count": null,
   "metadata": {},
   "outputs": [],
   "source": [
    "# Declare column variables\n",
    "classes = 'absent'\n",
    "class_x = 1\n",
    "class_y = 2\n",
    "label_0 = 'Not Absent' # Change depending on which class 0 belongs to\n",
    "label_1 = 'Absent' # Change depending on which class 1 belongs to\n",
    "\n",
    "x_majority = dataset[dataset[classes] == 1].iloc[:,:-1]\n",
    "x_minority = dataset[dataset[classes] == 0].iloc[:,:-1]\n",
    "y_majority = dataset[dataset[classes] == 1].iloc[:,-1]\n",
    "y_minority = dataset[dataset[classes] == 0].iloc[:,-1]\n",
    "\n",
    "print 'Number of majority before: ', len(x_majority)\n",
    "\n",
    "num_to_remove = len(x_majority) - len(x_minority)\n",
    "if num_to_remove > len(x_minority):\n",
    "    num_to_remove = len(x_minority)\n",
    "tomek_dataset = custom_imp.tomek(x_majority.values, x_minority.values, y_majority.values, y_minority.values, num_to_remove, classes, 1)\n",
    "tomek_df = pd.DataFrame(tomek_dataset)\n",
    "\n",
    "print 'Number of majority after: ', len(tomek_df[tomek_df[10] == 0].iloc[:,:-1])\n",
    "\n",
    "# Split into data and labels\n",
    "x_tomek = preprocessing.normalize(tomek_df.iloc[:,:-1].values)\n",
    "y_tomek = tomek_df.iloc[:,-1].values\n",
    "\n",
    "x_train, x_test, y_train, y_test = train_test_split(x_tomek,y_tomek,random_state=1, test_size=0.25, shuffle=True)\n",
    "print 'done'"
   ]
  },
  {
   "cell_type": "markdown",
   "metadata": {},
   "source": [
    "## KNN after TOMEK Links"
   ]
  },
  {
   "cell_type": "code",
   "execution_count": null,
   "metadata": {},
   "outputs": [],
   "source": [
    "k_best = custom_imp.knn_set_hyper_params(x_train, y_train, x_test, y_test, x, y)\n",
    "print 'Best K: ', k_best\n",
    "\n",
    "# Create KNN and fit model\n",
    "model = KNeighborsClassifier(n_neighbors=k_best, metric='minkowski', p=2)\n",
    "model.fit(x_train, y_train)\n",
    "\n",
    "# Predict on testing data\n",
    "y_pred = model.predict(x_test)\n",
    "\n",
    "# 10-cross fold validation\n",
    "scores = cross_val_score(model, x, y, cv=10)\n",
    "print(\"\\n10-Fold Cross Validation: %0.2f (+/- %0.2f)\" % (scores.mean(), scores.std() * 2))\n",
    "\n",
    "class_labels = ['Not Absent', 'Absent']\n",
    "pos_label = 1\n",
    "\n",
    "custom_imp.show_metrics(y_test, y_pred, class_labels, pos_label)"
   ]
  },
  {
   "cell_type": "markdown",
   "metadata": {},
   "source": [
    "## Set SVM parameters"
   ]
  },
  {
   "cell_type": "code",
   "execution_count": null,
   "metadata": {},
   "outputs": [],
   "source": [
    "svm_best_params = custom_imp.svm_set_hyper_params(x_train, y_train, x_test, y_test, True)\n",
    "print svm_best_params"
   ]
  },
  {
   "cell_type": "markdown",
   "metadata": {},
   "source": [
    "## SVM after TOMEK Links"
   ]
  },
  {
   "cell_type": "code",
   "execution_count": null,
   "metadata": {},
   "outputs": [],
   "source": [
    "kernel = svm_best_params['kernel']\n",
    "if(kernel == 'linear'):\n",
    "    model = svm.SVC(C=svm_best_params['C'], max_iter=-1, kernel='linear')\n",
    "else:\n",
    "    model = svm.SVC(gamma=svm_best_params['gamma'], C=svm_best_params['C'], max_iter=-1, kernel='rbf')\n",
    "model.fit(x_train, y_train)\n",
    "\n",
    "# Show SVM params\n",
    "print model.get_params\n",
    "\n",
    "# Predict on testing data\n",
    "y_pred = model.predict(x_test)\n",
    "print (\"Accuracy: %f\" %(metrics.accuracy_score(y_test, y_pred)))\n",
    "\n",
    "# k cross fold validation\n",
    "scores = cross_val_score(model, x, y, cv=10)\n",
    "print(\"10-Fold Cross Validation: %0.2f (+/- %0.2f)\" % (scores.mean(), scores.std() * 2))\n",
    "\n",
    "# Get support vectors\n",
    "print 'Support vectors: \\n', model.support_vectors_\n",
    "\n",
    "print y_pred\n",
    "custom_imp.show_metrics(y_test, y_pred, class_labels, pos_label)"
   ]
  },
  {
   "cell_type": "markdown",
   "metadata": {},
   "source": [
    "## SMOTE + TOMEK Links on imbalanced dataset"
   ]
  },
  {
   "cell_type": "code",
   "execution_count": null,
   "metadata": {},
   "outputs": [],
   "source": [
    "# Declare column variables\n",
    "classes = 'absent'\n",
    "class_x = 1\n",
    "class_y = 2\n",
    "label_0 = 'Not Absent' # Change depending on which class 0 belongs to\n",
    "label_1 = 'Absent' # Change depending on which class 1 belongs to\n",
    "\n",
    "# Separate into features and labels depending upon classification label\n",
    "x_majority = preprocessing.normalize(dataset[dataset[classes] == 1].iloc[:,:-1])\n",
    "x_minority = preprocessing.normalize(dataset[dataset[classes] == 0].iloc[:,:-1])\n",
    "y_majority = dataset[dataset[classes] == 1].iloc[:,-1]\n",
    "y_minority = dataset[dataset[classes] == 0].iloc[:,-1]\n",
    "\n",
    "print 'Number of majority before: ', len(x_majority)\n",
    "print 'Number of minority before: ', len(x_minority)\n",
    "\n",
    "smote_tomek_dataset = custom_imp.smote_tomek(x_majority, x_minority, y_majority.values, y_minority.values, majority_class, minority_class, smote_percentages[3], k_best, classes)\n",
    "\n",
    "smote_tomek_df = pd.DataFrame(smote_tomek_dataset)\n",
    "\n",
    "x_smote_tomek = smote_tomek_df.iloc[:,:-1].values\n",
    "y_smote_tomek = smote_tomek_df.iloc[:, len(dataset.columns)-1].values\n",
    "\n",
    "print 'Number of majority after: ', len(smote_tomek_df[smote_tomek_df[10] == 1])\n",
    "print 'Number of minority after: ', len(smote_tomek_df[smote_tomek_df[10] == 0])\n",
    "\n",
    "x_train, x_test, y_train, y_test = train_test_split(x_smote_tomek,y_smote_tomek,random_state=1, test_size=0.25, shuffle=True)"
   ]
  },
  {
   "cell_type": "markdown",
   "metadata": {},
   "source": [
    "## KNN after SMOTE + TOMEK Links"
   ]
  },
  {
   "cell_type": "code",
   "execution_count": null,
   "metadata": {},
   "outputs": [],
   "source": [
    "k_best = custom_imp.knn_set_hyper_params(x_train, y_train, x_test, y_test, x, y)\n",
    "print 'Best K: ', k_best\n",
    "\n",
    "# Create KNN and fit model\n",
    "model = KNeighborsClassifier(n_neighbors=k_best, metric='minkowski', p=2)\n",
    "model.fit(x_train, y_train)\n",
    "\n",
    "# Predict on testing data\n",
    "y_pred = model.predict(x_test)\n",
    "\n",
    "# 10-cross fold validation\n",
    "scores = cross_val_score(model, x, y, cv=10)\n",
    "print(\"\\n10-Fold Cross Validation: %0.2f (+/- %0.2f)\" % (scores.mean(), scores.std() * 2))\n",
    "\n",
    "class_labels = ['Not Absent', 'Absent']\n",
    "pos_label = 1\n",
    "\n",
    "custom_imp.show_metrics(y_test, y_pred, class_labels, pos_label)"
   ]
  },
  {
   "cell_type": "markdown",
   "metadata": {},
   "source": [
    "## Set SVM parameters"
   ]
  },
  {
   "cell_type": "code",
   "execution_count": null,
   "metadata": {},
   "outputs": [],
   "source": [
    "svm_best_params = custom_imp.svm_set_hyper_params(x_train, y_train, x_test, y_test, True)\n",
    "print svm_best_params"
   ]
  },
  {
   "cell_type": "markdown",
   "metadata": {},
   "source": [
    "## SVM after SMOTE + TOMEK Links"
   ]
  },
  {
   "cell_type": "code",
   "execution_count": null,
   "metadata": {},
   "outputs": [],
   "source": [
    "kernel = svm_best_params['kernel']\n",
    "if(kernel == 'linear'):\n",
    "    model = svm.SVC(C=svm_best_params['C'], max_iter=-1, kernel='linear')\n",
    "else:\n",
    "    model = svm.SVC(gamma=svm_best_params['gamma'], C=svm_best_params['C'], max_iter=-1, kernel='rbf')\n",
    "model.fit(x_train, y_train)\n",
    "\n",
    "# Show SVM params\n",
    "print model.get_params\n",
    "\n",
    "# Predict on testing data\n",
    "y_pred = model.predict(x_test)\n",
    "print (\"Accuracy: %f\" %(metrics.accuracy_score(y_test, y_pred)))\n",
    "\n",
    "# k cross fold validation\n",
    "scores = cross_val_score(model, x, y, cv=10)\n",
    "print(\"10-Fold Cross Validation: %0.2f (+/- %0.2f)\" % (scores.mean(), scores.std() * 2))\n",
    "\n",
    "# Get support vectors\n",
    "print 'Support vectors: \\n', model.support_vectors_\n",
    "\n",
    "print y_pred\n",
    "custom_imp.show_metrics(y_test, y_pred, class_labels, pos_label)"
   ]
  },
  {
   "cell_type": "code",
   "execution_count": null,
   "metadata": {},
   "outputs": [],
   "source": []
  }
 ],
 "metadata": {
  "kernelspec": {
   "display_name": "Python 2",
   "language": "python",
   "name": "python2"
  },
  "language_info": {
   "codemirror_mode": {
    "name": "ipython",
    "version": 2
   },
   "file_extension": ".py",
   "mimetype": "text/x-python",
   "name": "python",
   "nbconvert_exporter": "python",
   "pygments_lexer": "ipython2",
   "version": "2.7.15"
  }
 },
 "nbformat": 4,
 "nbformat_minor": 2
}
